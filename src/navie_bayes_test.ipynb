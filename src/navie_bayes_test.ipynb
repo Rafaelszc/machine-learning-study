{
 "cells": [
  {
   "cell_type": "code",
   "execution_count": 2,
   "metadata": {},
   "outputs": [],
   "source": [
    "import pandas as pd\n",
    "import pickle\n",
    "from sklearn.naive_bayes import GaussianNB\n",
    "from sklearn.model_selection import train_test_split\n",
    "from sklearn.metrics import accuracy_score"
   ]
  },
  {
   "cell_type": "code",
   "execution_count": 3,
   "metadata": {},
   "outputs": [],
   "source": [
    "with open(\"../resources/data_to_learn.pkl\", \"rb\") as file:\n",
    "    data_X_train, data_X_test, data_Y_train, data_Y_test, data_X, data_Y = pickle.load(file)"
   ]
  },
  {
   "cell_type": "code",
   "execution_count": 4,
   "metadata": {},
   "outputs": [
    {
     "data": {
      "text/plain": [
       "array([[13, 4, 4, 0, 1],\n",
       "       [16, 4, 4, 0, 1],\n",
       "       [11, 4, 4, 0, 1],\n",
       "       [14, 4, 4, 0, 1],\n",
       "       [6, 4, 4, 0, 1],\n",
       "       [12, 4, 4, 1, 1],\n",
       "       [1, 4, 4, 0, 1],\n",
       "       [0, 4, 4, 0, 1],\n",
       "       [10, 4, 4, 0, 1],\n",
       "       [16, 4, 4, 0, 1],\n",
       "       [7, 4, 4, 0, 1],\n",
       "       [3, 4, 4, 1, 1],\n",
       "       [4, 4, 4, 0, 1],\n",
       "       [5, 4, 4, 0, 1],\n",
       "       [9, 4, 4, 0, 3],\n",
       "       [14, 4, 4, 0, 1],\n",
       "       [2, 4, 4, 0, 1],\n",
       "       [8, 4, 4, 0, 1],\n",
       "       [13, 3, 1, 0, 1],\n",
       "       [11, 3, 1, 0, 1],\n",
       "       [15, 3, 1, 0, 1],\n",
       "       [16, 3, 1, 0, 0],\n",
       "       [3, 3, 1, 0, 1],\n",
       "       [4, 3, 1, 0, 1],\n",
       "       [12, 1, 5, 0, 1],\n",
       "       [1, 3, 1, 1, 0],\n",
       "       [0, 0, 10, 0, 1],\n",
       "       [10, 3, 1, 0, 1],\n",
       "       [16, 1, 5, 1, 1],\n",
       "       [7, 0, 9, 0, 1],\n",
       "       [3, 1, 5, 1, 3],\n",
       "       [4, 4, 3, 0, 1],\n",
       "       [5, 3, 8, 1, 1],\n",
       "       [9, 1, 2, 0, 1],\n",
       "       [14, 3, 8, 0, 1],\n",
       "       [2, 3, 8, 0, 1],\n",
       "       [8, 3, 6, 1, 3],\n",
       "       [13, 1, 2, 1, 1],\n",
       "       [11, 1, 5, 1, 1],\n",
       "       [8, 4, 4, 1, 1],\n",
       "       [13, 4, 3, 0, 3],\n",
       "       [16, 4, 4, 0, 0],\n",
       "       [11, 4, 4, 0, 2],\n",
       "       [14, 1, 0, 0, 3],\n",
       "       [6, 1, 5, 0, 0],\n",
       "       [12, 3, 8, 0, 0],\n",
       "       [1, 4, 4, 0, 1],\n",
       "       [0, 4, 3, 0, 2],\n",
       "       [10, 4, 4, 0, 0],\n",
       "       [16, 4, 4, 0, 1],\n",
       "       [7, 4, 4, 0, 1],\n",
       "       [3, 3, 4, 1, 0],\n",
       "       [4, 2, 7, 1, 1],\n",
       "       [5, 4, 4, 0, 1],\n",
       "       [9, 1, 2, 1, 1],\n",
       "       [14, 4, 4, 0, 1],\n",
       "       [2, 4, 4, 1, 1],\n",
       "       [8, 4, 4, 0, 1],\n",
       "       [13, 3, 1, 0, 1],\n",
       "       [11, 3, 1, 0, 1],\n",
       "       [15, 3, 1, 0, 1],\n",
       "       [16, 3, 1, 1, 0],\n",
       "       [3, 3, 1, 0, 1],\n",
       "       [4, 3, 1, 0, 1],\n",
       "       [12, 1, 5, 0, 1],\n",
       "       [1, 3, 1, 1, 0],\n",
       "       [14, 3, 8, 0, 1],\n",
       "       [2, 3, 8, 0, 1],\n",
       "       [8, 3, 6, 1, 3],\n",
       "       [13, 1, 2, 1, 1],\n",
       "       [11, 1, 5, 1, 1],\n",
       "       [8, 4, 4, 1, 1],\n",
       "       [13, 4, 3, 0, 3],\n",
       "       [16, 4, 4, 0, 0],\n",
       "       [11, 4, 4, 0, 2],\n",
       "       [14, 1, 0, 0, 3],\n",
       "       [6, 1, 5, 0, 0],\n",
       "       [12, 3, 8, 0, 0],\n",
       "       [1, 4, 4, 0, 1],\n",
       "       [0, 4, 3, 0, 2],\n",
       "       [10, 4, 4, 0, 0],\n",
       "       [16, 4, 4, 0, 1],\n",
       "       [7, 4, 4, 0, 1],\n",
       "       [3, 3, 4, 1, 0],\n",
       "       [4, 2, 7, 1, 1],\n",
       "       [5, 4, 4, 0, 1],\n",
       "       [9, 1, 2, 1, 1],\n",
       "       [14, 4, 4, 0, 1],\n",
       "       [2, 4, 4, 1, 1],\n",
       "       [8, 4, 4, 0, 1],\n",
       "       [13, 3, 1, 0, 1],\n",
       "       [11, 3, 1, 0, 1],\n",
       "       [15, 3, 1, 0, 1],\n",
       "       [16, 3, 1, 1, 0],\n",
       "       [3, 3, 1, 0, 1],\n",
       "       [4, 3, 1, 0, 1],\n",
       "       [12, 1, 5, 0, 1],\n",
       "       [13, 1, 2, 1, 1],\n",
       "       [11, 1, 5, 1, 1],\n",
       "       [8, 4, 4, 1, 1],\n",
       "       [13, 4, 3, 0, 3],\n",
       "       [16, 4, 4, 0, 0],\n",
       "       [11, 4, 4, 0, 2],\n",
       "       [14, 1, 0, 0, 3],\n",
       "       [6, 1, 5, 0, 0],\n",
       "       [12, 3, 8, 0, 0],\n",
       "       [1, 4, 4, 0, 1],\n",
       "       [0, 4, 3, 0, 2],\n",
       "       [10, 4, 4, 0, 0],\n",
       "       [16, 4, 4, 0, 1],\n",
       "       [7, 4, 4, 0, 1],\n",
       "       [3, 3, 4, 1, 0],\n",
       "       [4, 2, 7, 1, 1],\n",
       "       [5, 4, 4, 0, 1],\n",
       "       [9, 1, 2, 1, 1],\n",
       "       [14, 4, 4, 0, 1],\n",
       "       [2, 4, 4, 1, 1],\n",
       "       [8, 4, 4, 0, 1],\n",
       "       [13, 3, 1, 0, 1],\n",
       "       [11, 3, 1, 0, 1],\n",
       "       [15, 3, 1, 0, 1]], dtype=object)"
      ]
     },
     "execution_count": 4,
     "metadata": {},
     "output_type": "execute_result"
    }
   ],
   "source": [
    "data_X"
   ]
  },
  {
   "cell_type": "code",
   "execution_count": 5,
   "metadata": {},
   "outputs": [
    {
     "data": {
      "text/plain": [
       "array([[ 20],\n",
       "       [ 50],\n",
       "       [ 70],\n",
       "       [ 25],\n",
       "       [ 20],\n",
       "       [130],\n",
       "       [ 10],\n",
       "       [ 35],\n",
       "       [ 35],\n",
       "       [ 45],\n",
       "       [150],\n",
       "       [ 45],\n",
       "       [ 20],\n",
       "       [ 80],\n",
       "       [ 30],\n",
       "       [ 20],\n",
       "       [ 70],\n",
       "       [ 20],\n",
       "       [ 25],\n",
       "       [100],\n",
       "       [ 30],\n",
       "       [ 80],\n",
       "       [ 50],\n",
       "       [ 60],\n",
       "       [ 25],\n",
       "       [ 70],\n",
       "       [ 70],\n",
       "       [ 20],\n",
       "       [130],\n",
       "       [170],\n",
       "       [ 40],\n",
       "       [ 20],\n",
       "       [200],\n",
       "       [ 15],\n",
       "       [ 10],\n",
       "       [ 40],\n",
       "       [200],\n",
       "       [ 40],\n",
       "       [250],\n",
       "       [ 90],\n",
       "       [ 16],\n",
       "       [ 30],\n",
       "       [ 40],\n",
       "       [ 15],\n",
       "       [ 12],\n",
       "       [ 50],\n",
       "       [ 15],\n",
       "       [ 25],\n",
       "       [ 28],\n",
       "       [ 35],\n",
       "       [120],\n",
       "       [ 75],\n",
       "       [ 18],\n",
       "       [ 80],\n",
       "       [ 40],\n",
       "       [ 20],\n",
       "       [ 70],\n",
       "       [ 70],\n",
       "       [ 25],\n",
       "       [100],\n",
       "       [ 30],\n",
       "       [120],\n",
       "       [ 50],\n",
       "       [ 60],\n",
       "       [ 25],\n",
       "       [ 80],\n",
       "       [ 15],\n",
       "       [ 45],\n",
       "       [190],\n",
       "       [ 50],\n",
       "       [210],\n",
       "       [130],\n",
       "       [ 10],\n",
       "       [ 25],\n",
       "       [ 42],\n",
       "       [ 20],\n",
       "       [ 15],\n",
       "       [ 55],\n",
       "       [ 20],\n",
       "       [ 29],\n",
       "       [ 32],\n",
       "       [ 20],\n",
       "       [132],\n",
       "       [ 60],\n",
       "       [ 21],\n",
       "       [ 75],\n",
       "       [ 35],\n",
       "       [ 19],\n",
       "       [ 32],\n",
       "       [ 90],\n",
       "       [ 22],\n",
       "       [ 35],\n",
       "       [ 21],\n",
       "       [ 90],\n",
       "       [ 33],\n",
       "       [ 55],\n",
       "       [ 30],\n",
       "       [ 45],\n",
       "       [170],\n",
       "       [150],\n",
       "       [ 24],\n",
       "       [ 30],\n",
       "       [ 35],\n",
       "       [ 23],\n",
       "       [ 21],\n",
       "       [ 53],\n",
       "       [ 27],\n",
       "       [ 32],\n",
       "       [ 24],\n",
       "       [ 22],\n",
       "       [123],\n",
       "       [ 55],\n",
       "       [ 21],\n",
       "       [ 90],\n",
       "       [ 25],\n",
       "       [ 21],\n",
       "       [ 33],\n",
       "       [ 88],\n",
       "       [ 24],\n",
       "       [ 33],\n",
       "       [  9]])"
      ]
     },
     "execution_count": 5,
     "metadata": {},
     "output_type": "execute_result"
    }
   ],
   "source": [
    "data_Y"
   ]
  },
  {
   "cell_type": "markdown",
   "metadata": {},
   "source": [
    "O algoritmo de navie_bayes vai trabalhar com variáveis discretas, pois gera uma tabela de probabilidades sobre os dados. Então pouco importa o valor dos dados.\n",
    "Assim, melhor alterar os valores das bases de teste e de treino."
   ]
  },
  {
   "cell_type": "code",
   "execution_count": 6,
   "metadata": {},
   "outputs": [],
   "source": [
    "data_X_train, data_X_test, data_Y_train, data_Y_test = train_test_split(data_X, data_Y, test_size=0.5, random_state=0)"
   ]
  },
  {
   "cell_type": "code",
   "execution_count": 7,
   "metadata": {},
   "outputs": [
    {
     "name": "stderr",
     "output_type": "stream",
     "text": [
      "/var/data/python/lib/python3.11/site-packages/sklearn/utils/validation.py:1339: DataConversionWarning: A column-vector y was passed when a 1d array was expected. Please change the shape of y to (n_samples, ), for example using ravel().\n",
      "  y = column_or_1d(y, warn=True)\n"
     ]
    }
   ],
   "source": [
    "navie_bayes = GaussianNB()\n",
    "navie_bayes_train = navie_bayes.fit(data_X_train, data_Y_train)"
   ]
  },
  {
   "cell_type": "code",
   "execution_count": 8,
   "metadata": {},
   "outputs": [],
   "source": [
    "predict = navie_bayes_train.predict(data_X_test)"
   ]
  },
  {
   "cell_type": "code",
   "execution_count": 9,
   "metadata": {},
   "outputs": [
    {
     "data": {
      "text/plain": [
       "array([ 35,  45,  45,  20,  50,  45,  20, 123,  55,  88,  40, 123,  20,\n",
       "        21,  21,  35,  25,  23,  40,  12,  45, 100,  20,  40,  60,  75,\n",
       "        40,  80,  40, 200,  60,  12,  35,  80,  19,  40,  15,  23,  16,\n",
       "       100,  55,  40,  24,  45,  45,  24,  90,  90,  45,  90,  90, 210,\n",
       "        40,  22,  35,  35,  35,  20,  19,  88,  40])"
      ]
     },
     "execution_count": 9,
     "metadata": {},
     "output_type": "execute_result"
    }
   ],
   "source": [
    "predict"
   ]
  },
  {
   "cell_type": "code",
   "execution_count": 10,
   "metadata": {},
   "outputs": [
    {
     "name": "stdout",
     "output_type": "stream",
     "text": [
      "Accuracy: 4.92%\n"
     ]
    }
   ],
   "source": [
    "print(f\"Accuracy: {round(accuracy_score(data_Y_test, predict)*100, 2)}%\")"
   ]
  },
  {
   "cell_type": "markdown",
   "metadata": {},
   "source": [
    "Resultado ruim, pois o modelo vai tentar trabalhar os valores Y como sendo categóricos, mas o valor em Y é um valor numérico."
   ]
  }
 ],
 "metadata": {
  "kernelspec": {
   "display_name": "Python 3",
   "language": "python",
   "name": "python3"
  },
  "language_info": {
   "codemirror_mode": {
    "name": "ipython",
    "version": 3
   },
   "file_extension": ".py",
   "mimetype": "text/x-python",
   "name": "python",
   "nbconvert_exporter": "python",
   "pygments_lexer": "ipython3",
   "version": "3.11.10"
  }
 },
 "nbformat": 4,
 "nbformat_minor": 2
}
